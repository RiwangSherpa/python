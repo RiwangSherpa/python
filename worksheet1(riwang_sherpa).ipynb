{
  "nbformat": 4,
  "nbformat_minor": 0,
  "metadata": {
    "colab": {
      "provenance": []
    },
    "kernelspec": {
      "name": "python3",
      "display_name": "Python 3"
    },
    "language_info": {
      "name": "python"
    }
  },
  "cells": [
    {
      "cell_type": "code",
      "execution_count": null,
      "metadata": {
        "colab": {
          "base_uri": "https://localhost:8080/"
        },
        "id": "jekTDQTlEusC",
        "outputId": "d5bf8119-c463-42f6-d9dd-7e0fcbd07eb0"
      },
      "outputs": [
        {
          "output_type": "stream",
          "name": "stdout",
          "text": [
            "1. Empty array (2x2):\n",
            " [[4.77004267e-310 0.00000000e+000]\n",
            " [9.04115220e+271 1.02124020e+277]]\n",
            "\n",
            "2. All ones array (4x2):\n",
            " [[1. 1.]\n",
            " [1. 1.]\n",
            " [1. 1.]\n",
            " [1. 1.]]\n",
            "\n",
            "3. Array filled with value 7 (3x3):\n",
            " [[7 7 7]\n",
            " [7 7 7]\n",
            " [7 7 7]]\n",
            "\n",
            "4. Zeros array with same shape as filled_array:\n",
            " [[0 0 0]\n",
            " [0 0 0]\n",
            " [0 0 0]]\n",
            "\n",
            "5. Ones array with same shape as filled_array:\n",
            " [[1 1 1]\n",
            " [1 1 1]\n",
            " [1 1 1]]\n",
            "\n",
            "6. Converted numpy array:\n",
            " [1 2 3 4]\n"
          ]
        }
      ],
      "source": [
        "import numpy as np\n",
        "\n",
        "# 1. Initialize an empty array with size 2X2\n",
        "empty_array = np.empty((2, 2))\n",
        "print(\"1. Empty array (2x2):\\n\", empty_array)\n",
        "\n",
        "# 2. Initialize an all-one array with size 4X2\n",
        "ones_array = np.ones((4, 2))\n",
        "print(\"\\n2. All ones array (4x2):\\n\", ones_array)\n",
        "\n",
        "# 3. Return a new array of given shape and type, filled with fill value\n",
        "filled_array = np.full((3, 3), 7)  # A 3x3 array filled with the value 7\n",
        "print(\"\\n3. Array filled with value 7 (3x3):\\n\", filled_array)\n",
        "\n",
        "# 4. Return a new array of zeros with the same shape and type as a given array\n",
        "zeros_like_array = np.zeros_like(filled_array)\n",
        "print(\"\\n4. Zeros array with same shape as filled_array:\\n\", zeros_like_array)\n",
        "\n",
        "# 5. Return a new array of ones with the same shape and type as a given array\n",
        "ones_like_array = np.ones_like(filled_array)\n",
        "print(\"\\n5. Ones array with same shape as filled_array:\\n\", ones_like_array)\n",
        "\n",
        "# 6. Convert an existing list to a numpy array\n",
        "new_list = [1, 2, 3, 4]\n",
        "numpy_array = np.array(new_list)\n",
        "print(\"\\n6. Converted numpy array:\\n\", numpy_array)\n",
        "\n"
      ]
    },
    {
      "cell_type": "code",
      "source": [
        "import numpy as np\n",
        "# 1. Create an array with values ranging from 10 to 49\n",
        "array_range = np.arange(10, 50)\n",
        "print(\"\\n1. Array with values ranging from 10 to 49:\\n\", array_range)\n",
        "\n",
        "# 2. Create a 3X3 matrix with values ranging from 0 to 8\n",
        "matrix_3x3 = np.arange(9).reshape(3, 3)\n",
        "print(\"\\n2. 3x3 matrix with values 0 to 8:\\n\", matrix_3x3)\n",
        "\n",
        "# 3. Create a 3X3 identity matrix\n",
        "identity_matrix = np.eye(3)\n",
        "print(\"\\n3. 3x3 Identity matrix:\\n\", identity_matrix)\n",
        "\n",
        "# 4. Create a random array of size 30 and find the mean of the array\n",
        "random_array = np.random.random(30)\n",
        "mean_value = random_array.mean()\n",
        "print(\"\\n4. Random array of size 30:\\n\", random_array)\n",
        "print(\"Mean of the array:\", mean_value)\n",
        "\n",
        "# 5. Create a 10X10 array with random values and find the minimum and maximum values\n",
        "random_10x10 = np.random.random((10, 10))\n",
        "min_value = random_10x10.min()\n",
        "max_value = random_10x10.max()\n",
        "print(\"\\n5. 10x10 array with random values:\\n\", random_10x10)\n",
        "print(\"Minimum value:\", min_value)\n",
        "print(\"Maximum value:\", max_value)\n",
        "\n",
        "# 6. Create a zero array of size 10 and replace 5th element with 1\n",
        "zero_array = np.zeros(10)\n",
        "zero_array[4] = 1\n",
        "print(\"\\n6. Zero array with 5th element replaced with 1:\\n\", zero_array)\n",
        "\n",
        "# 7. Reverse an array arr = [1,2,0,0,4,0]\n",
        "arr = np.array([1, 2, 0, 0, 4, 0])\n",
        "reversed_array = arr[::-1]\n",
        "print(\"\\n7. Reversed array:\\n\", reversed_array)\n",
        "\n",
        "# 8. Create a 2D array with 1 on border and 0 inside\n",
        "border_array = np.ones((5, 5))\n",
        "border_array[1:-1, 1:-1] = 0\n",
        "print(\"\\n8. 2D array with 1 on border and 0 inside:\\n\", border_array)\n",
        "\n",
        "# 9. Create an 8X8 matrix and fill it with a checkerboard pattern\n",
        "checkerboard = np.zeros((8, 8), dtype=int)\n",
        "checkerboard[1::2, ::2] = 1\n",
        "checkerboard[::2, 1::2] = 1\n",
        "print(\"\\n9. 8x8 Checkerboard pattern:\\n\", checkerboard)\n"
      ],
      "metadata": {
        "colab": {
          "base_uri": "https://localhost:8080/"
        },
        "id": "trWsiGpPE-L-",
        "outputId": "7fd142c9-992f-444e-cf44-2c3c49f8de08"
      },
      "execution_count": null,
      "outputs": [
        {
          "output_type": "stream",
          "name": "stdout",
          "text": [
            "\n",
            "1. Array with values ranging from 10 to 49:\n",
            " [10 11 12 13 14 15 16 17 18 19 20 21 22 23 24 25 26 27 28 29 30 31 32 33\n",
            " 34 35 36 37 38 39 40 41 42 43 44 45 46 47 48 49]\n",
            "\n",
            "2. 3x3 matrix with values 0 to 8:\n",
            " [[0 1 2]\n",
            " [3 4 5]\n",
            " [6 7 8]]\n",
            "\n",
            "3. 3x3 Identity matrix:\n",
            " [[1. 0. 0.]\n",
            " [0. 1. 0.]\n",
            " [0. 0. 1.]]\n",
            "\n",
            "4. Random array of size 30:\n",
            " [0.29011008 0.08170477 0.05650098 0.08086917 0.31284067 0.78753587\n",
            " 0.66068138 0.23022889 0.22245806 0.10835481 0.73196507 0.86096279\n",
            " 0.67297713 0.91486791 0.78760797 0.0339124  0.93410386 0.75789518\n",
            " 0.34746144 0.6729805  0.42984973 0.94703214 0.55674595 0.98838273\n",
            " 0.95432148 0.7021483  0.09274822 0.91379854 0.88653058 0.57234225]\n",
            "Mean of the array: 0.5529972951391761\n",
            "\n",
            "5. 10x10 array with random values:\n",
            " [[0.18568924 0.22482147 0.64557575 0.60608227 0.20369618 0.94238696\n",
            "  0.2461421  0.89656197 0.92981926 0.96053215]\n",
            " [0.30233282 0.18390726 0.37180286 0.47826385 0.48744634 0.64093241\n",
            "  0.19870694 0.13347383 0.0204797  0.7431066 ]\n",
            " [0.4662162  0.92419375 0.26178763 0.79486343 0.35571573 0.57292885\n",
            "  0.57323669 0.16424072 0.62451247 0.1738041 ]\n",
            " [0.28713984 0.82726127 0.09796497 0.56598122 0.38516989 0.69790542\n",
            "  0.01360694 0.60683845 0.50961451 0.05376286]\n",
            " [0.57943604 0.41330879 0.31960801 0.44863587 0.62454156 0.4082809\n",
            "  0.94911509 0.00447603 0.28173438 0.61203565]\n",
            " [0.05232447 0.55088616 0.64793137 0.06284348 0.1312832  0.65094862\n",
            "  0.45175409 0.19619588 0.20009691 0.76930079]\n",
            " [0.89763609 0.64060108 0.91747309 0.8853425  0.34922136 0.58754046\n",
            "  0.917322   0.75122119 0.08249284 0.051868  ]\n",
            " [0.03937213 0.70123963 0.70953673 0.35269247 0.89539371 0.46533127\n",
            "  0.16506379 0.80065619 0.06293808 0.28606788]\n",
            " [0.51281772 0.44645818 0.74923509 0.79774611 0.50570707 0.29042554\n",
            "  0.27236002 0.48839044 0.36903752 0.90342749]\n",
            " [0.62345574 0.33504848 0.55512342 0.33829013 0.12537548 0.22421606\n",
            "  0.94471576 0.03566797 0.00336217 0.24225075]]\n",
            "Minimum value: 0.003362170331192793\n",
            "Maximum value: 0.9605321496919045\n",
            "\n",
            "6. Zero array with 5th element replaced with 1:\n",
            " [0. 0. 0. 0. 1. 0. 0. 0. 0. 0.]\n",
            "\n",
            "7. Reversed array:\n",
            " [0 4 0 0 2 1]\n",
            "\n",
            "8. 2D array with 1 on border and 0 inside:\n",
            " [[1. 1. 1. 1. 1.]\n",
            " [1. 0. 0. 0. 1.]\n",
            " [1. 0. 0. 0. 1.]\n",
            " [1. 0. 0. 0. 1.]\n",
            " [1. 1. 1. 1. 1.]]\n",
            "\n",
            "9. 8x8 Checkerboard pattern:\n",
            " [[0 1 0 1 0 1 0 1]\n",
            " [1 0 1 0 1 0 1 0]\n",
            " [0 1 0 1 0 1 0 1]\n",
            " [1 0 1 0 1 0 1 0]\n",
            " [0 1 0 1 0 1 0 1]\n",
            " [1 0 1 0 1 0 1 0]\n",
            " [0 1 0 1 0 1 0 1]\n",
            " [1 0 1 0 1 0 1 0]]\n"
          ]
        }
      ]
    },
    {
      "cell_type": "code",
      "source": [
        "import numpy as np\n",
        "x = np.array([[1,2], [3,5]])\n",
        "y = np.array([[5,6], [7,8]])\n",
        "v = np.array([9,10])\n",
        "w = np.array([11,12])\n",
        "ares = x+y\n",
        "print(ares)"
      ],
      "metadata": {
        "colab": {
          "base_uri": "https://localhost:8080/"
        },
        "id": "DfMjMA1LFDaS",
        "outputId": "bdce08a4-f97b-461b-9a93-63b05f2cd6d1"
      },
      "execution_count": null,
      "outputs": [
        {
          "output_type": "stream",
          "name": "stdout",
          "text": [
            "[[ 6  8]\n",
            " [10 13]]\n"
          ]
        }
      ]
    },
    {
      "cell_type": "code",
      "source": [
        "sub = x-y\n",
        "print(sub)"
      ],
      "metadata": {
        "colab": {
          "base_uri": "https://localhost:8080/"
        },
        "id": "hE9kIQY3HCsZ",
        "outputId": "4ab7f682-08c4-412f-9d55-8ca56370d16b"
      },
      "execution_count": null,
      "outputs": [
        {
          "output_type": "stream",
          "name": "stdout",
          "text": [
            "[[-4 -4]\n",
            " [-4 -3]]\n"
          ]
        }
      ]
    },
    {
      "cell_type": "code",
      "source": [
        "#multiply the array with any integers\n",
        "mulx = x * 2\n",
        "muly = y * 4\n",
        "print(mulx)\n",
        "print(muly)"
      ],
      "metadata": {
        "colab": {
          "base_uri": "https://localhost:8080/"
        },
        "id": "MzHyH2cDHEMe",
        "outputId": "0444792f-8e0a-4bcd-91dd-1e6f8664a18b"
      },
      "execution_count": null,
      "outputs": [
        {
          "output_type": "stream",
          "name": "stdout",
          "text": [
            "[[ 2  4]\n",
            " [ 6 10]]\n",
            "[[20 24]\n",
            " [28 32]]\n"
          ]
        }
      ]
    },
    {
      "cell_type": "code",
      "source": [
        "# find the square of each element\n",
        "xs = np.square(x)\n",
        "ys = np.square(y)\n",
        "print(xs)\n",
        "print(ys)"
      ],
      "metadata": {
        "colab": {
          "base_uri": "https://localhost:8080/"
        },
        "id": "wnGpNLI_HI26",
        "outputId": "f2ab9eb7-e2e0-467e-83b8-5036e0789523"
      },
      "execution_count": null,
      "outputs": [
        {
          "output_type": "stream",
          "name": "stdout",
          "text": [
            "[[ 1  4]\n",
            " [ 9 25]]\n",
            "[[25 36]\n",
            " [49 64]]\n"
          ]
        }
      ]
    },
    {
      "cell_type": "code",
      "source": [
        "# find the dot product between v and w, x and v, x and y\n",
        "vw = np.dot(v,w)\n",
        "print(\"\\nv and w\",vw)\n",
        "xv = np.dot(x,v)\n",
        "print(\"\\n x and v\",xv)\n",
        "xy = np.dot(x,y)\n",
        "print(\"\\n x and y\",x,y)"
      ],
      "metadata": {
        "colab": {
          "base_uri": "https://localhost:8080/"
        },
        "id": "7YdDOuTSHLqX",
        "outputId": "bff309d9-2276-474b-9a59-c162173fab1f"
      },
      "execution_count": null,
      "outputs": [
        {
          "output_type": "stream",
          "name": "stdout",
          "text": [
            "\n",
            "v and w 219\n",
            "\n",
            " x and v [29 77]\n",
            "\n",
            " x and y [[1 2]\n",
            " [3 5]] [[5 6]\n",
            " [7 8]]\n"
          ]
        }
      ]
    },
    {
      "cell_type": "code",
      "source": [
        "# concatinate x and y along row and concat v and w along column\n",
        "concat_xy = np.concatenate((x,y), axis = 0)\n",
        "print(\"\\n concat x and y: \", concat_xy)\n",
        "concat_vw = np.vstack((v,w)).T\n",
        "print(\"\\n concat v and w\",concat_vw)"
      ],
      "metadata": {
        "colab": {
          "base_uri": "https://localhost:8080/"
        },
        "id": "hRm5HLsSHUKJ",
        "outputId": "78ec23ab-47b9-4ebe-9828-b1d4df6e5752"
      },
      "execution_count": null,
      "outputs": [
        {
          "output_type": "stream",
          "name": "stdout",
          "text": [
            "\n",
            " concat x and y:  [[1 2]\n",
            " [3 5]\n",
            " [5 6]\n",
            " [7 8]]\n",
            "\n",
            " concat v and w [[ 9 11]\n",
            " [10 12]]\n"
          ]
        }
      ]
    },
    {
      "cell_type": "code",
      "source": [
        "concat_xv = np.concatenate((x,v), axis = 0)\n",
        "# error because x is a 2*2 matrix while v is 1*2.\n",
        "# x is 2 dimensional v is 1."
      ],
      "metadata": {
        "colab": {
          "base_uri": "https://localhost:8080/",
          "height": 176
        },
        "id": "tTpS65kLHVKv",
        "outputId": "226c1b92-61a7-4c38-e5d8-72c4db5923df"
      },
      "execution_count": null,
      "outputs": [
        {
          "output_type": "error",
          "ename": "ValueError",
          "evalue": "all the input arrays must have same number of dimensions, but the array at index 0 has 2 dimension(s) and the array at index 1 has 1 dimension(s)",
          "traceback": [
            "\u001b[0;31m---------------------------------------------------------------------------\u001b[0m",
            "\u001b[0;31mValueError\u001b[0m                                Traceback (most recent call last)",
            "\u001b[0;32m<ipython-input-9-d02348bca2d3>\u001b[0m in \u001b[0;36m<cell line: 1>\u001b[0;34m()\u001b[0m\n\u001b[0;32m----> 1\u001b[0;31m \u001b[0mconcat_xv\u001b[0m \u001b[0;34m=\u001b[0m \u001b[0mnp\u001b[0m\u001b[0;34m.\u001b[0m\u001b[0mconcatenate\u001b[0m\u001b[0;34m(\u001b[0m\u001b[0;34m(\u001b[0m\u001b[0mx\u001b[0m\u001b[0;34m,\u001b[0m\u001b[0mv\u001b[0m\u001b[0;34m)\u001b[0m\u001b[0;34m,\u001b[0m \u001b[0maxis\u001b[0m \u001b[0;34m=\u001b[0m \u001b[0;36m0\u001b[0m\u001b[0;34m)\u001b[0m\u001b[0;34m\u001b[0m\u001b[0;34m\u001b[0m\u001b[0m\n\u001b[0m\u001b[1;32m      2\u001b[0m \u001b[0;31m# error because x is a 2*2 matrix while v is 1*2.\u001b[0m\u001b[0;34m\u001b[0m\u001b[0;34m\u001b[0m\u001b[0m\n\u001b[1;32m      3\u001b[0m \u001b[0;31m# x is 2 dimensional v is 1.\u001b[0m\u001b[0;34m\u001b[0m\u001b[0;34m\u001b[0m\u001b[0m\n",
            "\u001b[0;31mValueError\u001b[0m: all the input arrays must have same number of dimensions, but the array at index 0 has 2 dimension(s) and the array at index 1 has 1 dimension(s)"
          ]
        }
      ]
    },
    {
      "cell_type": "code",
      "source": [
        "# prblm 4\n",
        "import numpy as np\n",
        "a = np.array([[3,4], [7,8]])\n",
        "b = np.array([[5,3], [2,1]])\n",
        "# A*A-1 = I\n",
        "inverse_A = np.linalg.inv(a)\n",
        "identity = np.dot(a, inverse_A)\n",
        "print(identity)"
      ],
      "metadata": {
        "colab": {
          "base_uri": "https://localhost:8080/"
        },
        "id": "bdROmqQYHY8B",
        "outputId": "55acbbcd-8648-4194-ecf9-66aa4516918c"
      },
      "execution_count": null,
      "outputs": [
        {
          "output_type": "stream",
          "name": "stdout",
          "text": [
            "[[1.00000000e+00 0.00000000e+00]\n",
            " [1.77635684e-15 1.00000000e+00]]\n"
          ]
        }
      ]
    },
    {
      "cell_type": "code",
      "source": [
        "# AB != BA\n",
        "ab = np.dot(a,b)\n",
        "ba = np.dot(b,a)\n",
        "print(\"A*B = \\n\", ab)\n",
        "print(\"B*A = \\n\", ba)"
      ],
      "metadata": {
        "colab": {
          "base_uri": "https://localhost:8080/"
        },
        "id": "Eda0uBvhHbAI",
        "outputId": "be4e06fe-9047-4f30-befa-7bf3cdd2c5f2"
      },
      "execution_count": null,
      "outputs": [
        {
          "output_type": "stream",
          "name": "stdout",
          "text": [
            "A*B = \n",
            " [[23 13]\n",
            " [51 29]]\n",
            "B*A = \n",
            " [[36 44]\n",
            " [13 16]]\n"
          ]
        }
      ]
    },
    {
      "cell_type": "code",
      "source": [
        "# Bt*At = (AB)t\n",
        "b_trans = np.transpose(b)\n",
        "a_trans = np.transpose(a)\n",
        "ab_trans = np.transpose(ab)\n",
        "aTbT_trans = np.dot(b_trans, a_trans)\n",
        "print(\"At*Bt = \\n\", aTbT_trans)\n",
        "print(\"(A*B)t = \\n\", ab_trans)"
      ],
      "metadata": {
        "colab": {
          "base_uri": "https://localhost:8080/"
        },
        "id": "il9T-wIHHc4k",
        "outputId": "11727319-e8c6-4db7-9efa-7842ab75f53f"
      },
      "execution_count": null,
      "outputs": [
        {
          "output_type": "stream",
          "name": "stdout",
          "text": [
            "At*Bt = \n",
            " [[23 51]\n",
            " [13 29]]\n",
            "(A*B)t = \n",
            " [[23 51]\n",
            " [13 29]]\n"
          ]
        }
      ]
    },
    {
      "cell_type": "code",
      "source": [
        "# inverse method\n",
        "# 2x − 3y + z = −1\n",
        "# x − y + 2z = −3\n",
        "# 3x + y − z = 9\n",
        "\n",
        "m1 = np.array([[2, -3, 1], [1, -1, 2], [3, 1, -1]])\n",
        "c1 = np.array([-1, -3, 9])\n",
        "# a inverse\n",
        "m1_inverse = np.linalg.inv(m1)\n",
        "x = np.dot(m1_inverse, c1)\n",
        "x,y,z = x\n",
        "print(\"x = \", x)\n",
        "print(\"y = \", y)\n",
        "print(\"z = \", z)"
      ],
      "metadata": {
        "colab": {
          "base_uri": "https://localhost:8080/"
        },
        "id": "_uHC1nwsHett",
        "outputId": "d13c8307-2040-4f97-f947-85f5af7d7af5"
      },
      "execution_count": null,
      "outputs": [
        {
          "output_type": "stream",
          "name": "stdout",
          "text": [
            "x =  2.0\n",
            "y =  1.0\n",
            "z =  -2.0\n"
          ]
        }
      ]
    },
    {
      "cell_type": "code",
      "source": [
        "import numpy as np\n",
        "# matrix creation\n",
        "a1 = np.array([[3,4,5],[6,7,8], [3,4,5]])\n",
        "print(a1)\n",
        "# empty array\n",
        "e1 = np.empty((2,2))\n",
        "print(e1)\n",
        "# ones array\n",
        "o1 = np.ones((4,2))\n",
        "print(o1)\n",
        "# fill array\n",
        "f1 = np.full((3,3),3)\n",
        "print(f1)\n",
        "# zero array with the same type\n",
        "a1 = np.array([[3,4, 5], [6,7, 8], [9,0,1]])\n",
        "z1 = np.zeros_like(a1)\n",
        "print(z1)\n",
        "# ones array with same type\n",
        "o2 = np.ones_like(a1)\n",
        "print(o2)\n",
        "# list into array\n",
        "l1 = [1,2,3,4]\n",
        "arr1 = np.array(l1)\n",
        "print(arr1)\n",
        "# array with certain range\n",
        "range = np.arange(10,51)\n",
        "print(range)\n",
        "# 3*3 array with certain va;ue\n",
        "ar1 = np.arange(9).reshape((3,3))\n",
        "print(ar1)\n",
        "# identity\n",
        "iden = np.eye(3)\n",
        "print(iden)\n",
        "rad_array = np.random.random(30)\n",
        "mean = np.mean(rad_array)\n",
        "print(rad_array)\n",
        "print(\"mean: \", mean)\n",
        "ran = np.random.random((10,10))\n",
        "min = np.min(ran)\n",
        "max = np.max(ran)\n",
        "print(\"min: \", min)\n",
        "print(\"max: \", max)"
      ],
      "metadata": {
        "colab": {
          "base_uri": "https://localhost:8080/"
        },
        "id": "B1NQXngYHiwz",
        "outputId": "9c02a2a8-4ed8-4c26-ad5b-32c1a9645c9e"
      },
      "execution_count": null,
      "outputs": [
        {
          "output_type": "stream",
          "name": "stdout",
          "text": [
            "[[3 4 5]\n",
            " [6 7 8]\n",
            " [3 4 5]]\n",
            "[[2.5e-323 3.0e-323]\n",
            " [3.5e-323 4.0e-323]]\n",
            "[[1. 1.]\n",
            " [1. 1.]\n",
            " [1. 1.]\n",
            " [1. 1.]]\n",
            "[[3 3 3]\n",
            " [3 3 3]\n",
            " [3 3 3]]\n",
            "[[0 0 0]\n",
            " [0 0 0]\n",
            " [0 0 0]]\n",
            "[[1 1 1]\n",
            " [1 1 1]\n",
            " [1 1 1]]\n",
            "[1 2 3 4]\n",
            "[10 11 12 13 14 15 16 17 18 19 20 21 22 23 24 25 26 27 28 29 30 31 32 33\n",
            " 34 35 36 37 38 39 40 41 42 43 44 45 46 47 48 49 50]\n",
            "[[0 1 2]\n",
            " [3 4 5]\n",
            " [6 7 8]]\n",
            "[[1. 0. 0.]\n",
            " [0. 1. 0.]\n",
            " [0. 0. 1.]]\n",
            "[0.61603437 0.16994522 0.32944848 0.20679254 0.66571706 0.05748211\n",
            " 0.74966034 0.53988506 0.92879685 0.85719556 0.97476461 0.46773386\n",
            " 0.19965974 0.18130659 0.79400387 0.40790501 0.49928998 0.41477482\n",
            " 0.81751324 0.84942486 0.98067697 0.80863607 0.70077549 0.50377849\n",
            " 0.67098602 0.43919798 0.59717281 0.67496223 0.13601149 0.81628048]\n",
            "mean:  0.5685270739749883\n",
            "min:  0.014955116052960626\n",
            "max:  0.9897456507077497\n"
          ]
        }
      ]
    }
  ]
}