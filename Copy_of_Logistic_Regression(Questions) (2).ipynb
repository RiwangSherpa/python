{
  "cells": [
    {
      "cell_type": "markdown",
      "metadata": {
        "id": "GFKoS2dWFqTg"
      },
      "source": [
        "**# Classification-Introduction:**\n",
        "\n",
        "In Statistics and Machine Learning, classification is a type of supervised learning task, where training data with known class labels are given and are used to estimate a function, which can map a unseen  features (Idependent  Variables $X$) to its class label (Dependent Variable $Y$) .\n",
        "\n",
        "Tasks in Supervised Learning-Classification Task can be:\n",
        "  *   Binary Classification.\n",
        "  *   Multiclass Classification.\n",
        "\n",
        "This Notebook consist of One Sections:\n",
        "  *   Section-1: This section will discuss how can we use Logistic Regression to perform Binary Classification Task.\n",
        "    *   We also describe various helper function such as Sigmoid Function, Cost fucntion and disccuss.\n",
        "\n",
        "Author-Siman Giri."
      ]
    },
    {
      "cell_type": "markdown",
      "metadata": {
        "id": "NSBFhL05IdaO"
      },
      "source": [
        "# Section-1: Binary Classification with Logistic Regression.\n",
        "\n",
        "___\n",
        "\n"
      ]
    },
    {
      "cell_type": "markdown",
      "metadata": {
        "id": "exqiG--qJKJh"
      },
      "source": [
        "## Helper Function:\n",
        "\n",
        "Let's discuss two function we need to further implement logistic regression.\n",
        "  1.   Sigmoid Function.\n",
        "  2.   Cost(Loss) Function.\n",
        "\n",
        "___\n",
        "\n",
        "\n"
      ]
    },
    {
      "cell_type": "markdown",
      "metadata": {
        "id": "4sKX3VdDJsOk"
      },
      "source": [
        "### Sigmoid Function:\n",
        "A function  $[g : R -> R] $  is said to be a sigmoid function, if the function is bounded, differentiable, real function that is defined for all real input values and has a non-negative derivative at each point and exactly on inflection point. The sigmoid fucntion has a characterstic \"S\" shaped curved also known as sigmoid curve.  [--- Wikipedia]\n",
        "\n",
        "A comon example of a sigmoid function is the logistic function described as below:\n",
        "$$ g(x) = \\frac{1}{1+e^{-x}}, $$\n",
        "\n",
        "for $x \\in \\mathbb{R}$.\n",
        "\n",
        "The next two code blocks construct and plot this function.\n",
        "___"
      ]
    },
    {
      "cell_type": "code",
      "execution_count": null,
      "metadata": {
        "id": "ATSH37zsE0LX"
      },
      "outputs": [],
      "source": [
        "import numpy as np"
      ]
    },
    {
      "cell_type": "code",
      "execution_count": null,
      "metadata": {
        "colab": {
          "base_uri": "https://localhost:8080/"
        },
        "id": "zOXBvw9DNuyh",
        "outputId": "7233b8cd-8359-42cf-a161-a1c3bf1cb759"
      },
      "outputs": [
        {
          "output_type": "stream",
          "name": "stdout",
          "text": [
            "logistic(0) = 0.5\n",
            "logistic([-3 -1  1  3]) = [0.04742587 0.26894142 0.73105858 0.95257413]\n"
          ]
        }
      ],
      "source": [
        "def logistic_function(x):\n",
        "    \"\"\"\n",
        "    Computes the logistic function (sigmoid) applied to any value of x.\n",
        "    Arguments:\n",
        "        x: scalar or numpy array of any size.\n",
        "    Returns:\n",
        "        y: logistic function applied to x.\n",
        "    \"\"\"\n",
        "    import numpy as np\n",
        "    # Apply the logistic function\n",
        "    y = 1 / (1 + np.exp(-x))\n",
        "    return y\n",
        "\n",
        "# Test Function:\n",
        "# For scalar:\n",
        "x = 0\n",
        "y = logistic_function(x)\n",
        "print(f\"logistic({x}) = {y}\")\n",
        "\n",
        "# For Array:\n",
        "import numpy as np\n",
        "x_arr = np.array([-3, -1, 1, 3])\n",
        "y_arr = logistic_function(x_arr)\n",
        "print(f\"logistic({x_arr}) = {y_arr}\")\n",
        "\n"
      ]
    },
    {
      "cell_type": "code",
      "execution_count": null,
      "metadata": {
        "colab": {
          "base_uri": "https://localhost:8080/",
          "height": 507
        },
        "id": "g_GyQ3WHQPbJ",
        "outputId": "c4d67abf-72c5-470f-eb3d-5fac57dcb41c"
      },
      "outputs": [
        {
          "output_type": "display_data",
          "data": {
            "text/plain": [
              "<Figure size 1000x500 with 1 Axes>"
            ],
            "image/png": "[encoded data removed]"
          },
          "metadata": {}
        }
      ],
      "source": [
        "# Plooting the sigmoid function:\n",
        "import matplotlib.pyplot as plt\n",
        "import numpy as np\n",
        "plt.figure(figsize = (10, 5))\n",
        "x = np.linspace(-11, 11, 100)\n",
        "plt.plot(x, logistic_function(x), color = 'red')\n",
        "plt.xlabel(\"x\", fontsize = 14)\n",
        "plt.ylabel(\"g(x)\", fontsize = 14)\n",
        "plt.title(\"Standard logistic function\", fontsize = 14)\n",
        "plt.tight_layout()\n",
        "plt.show()\n"
      ]
    },
    {
      "cell_type": "markdown",
      "metadata": {
        "id": "e6QM_2RWQsTw"
      },
      "source": [
        "### Cost(Loss) Function:\n",
        "Cost vs Loss Function:\n",
        "\n",
        "In general, loss function corresponds to observed error value between target value and predicted value for single observation/data points whereas cost function represents the average loss over a group of observations/data points.\n",
        "\n",
        "Due to the non-linearity introduced by logistic function in the function, we can not use squared loss as an loss function, instead we make use of log-loss function, given by:\n",
        "\n",
        "$$ L(y, y') = -y \\log\\left(y'\\right) - \\left(1 - y\\right) \\log\\left(1 - y'\\right), $$\n",
        "\n",
        "Where:\n",
        "*   $y$ : True target value (taking values $0$ or $1$)\n",
        "*   $y'$ : Predeicted target value ( predicted probability of $y$ being $1$ and vice versa.)\n",
        "\n",
        "The basis intution behind the log-loss function is, the loss value should be minimum when our predicted probability values are closer to true target value.\n"
      ]
    },
    {
      "cell_type": "code",
      "execution_count": null,
      "metadata": {
        "colab": {
          "base_uri": "https://localhost:8080/"
        },
        "id": "dDLxGVmwUQQ7",
        "outputId": "4d3eaba5-e4e8-405c-d48d-4b0c53d29b33"
      },
      "outputs": [
        {
          "output_type": "stream",
          "name": "stdout",
          "text": [
            "log loss(0, 0.1) ==> 0.10536051565782628\n",
            "+++++++++++++--------------------------++++++++++++++++++++++++\n",
            "log loss(1, 0.9) ==> 0.10536051565782628\n"
          ]
        }
      ],
      "source": [
        "def log_loss(y_true, y_pred):\n",
        "    \"\"\"\n",
        "    Computes log loss for true target value y={0 or 1} and predicted target value y' in [0, 1].\n",
        "    Arguments:\n",
        "        y_true (scalar): true target value {0 or 1}.\n",
        "        y_pred (scalar): predicted target value [0, 1].\n",
        "    Returns:\n",
        "        loss (float): loss/error value.\n",
        "    \"\"\"# Compute log-loss\n",
        "    loss = - (y_true * np.log(y_pred) + (1 - y_true) * np.log(1 - y_pred))\n",
        "    return loss\n",
        "\n",
        "# Test function:\n",
        "y_true, y_pred = 0, 0.1\n",
        "print(f'log loss({y_true}, {y_pred}) ==> {log_loss(y_true, y_pred)}')\n",
        "print(\"+++++++++++++--------------------------++++++++++++++++++++++++\")\n",
        "y_true, y_pred = 1, 0.9\n",
        "print(f'log loss({y_true}, {y_pred}) ==> {log_loss(y_true, y_pred)}')\n"
      ]
    },
    {
      "cell_type": "code",
      "execution_count": null,
      "metadata": {
        "colab": {
          "base_uri": "https://localhost:8080/",
          "height": 441
        },
        "id": "MOWpQJFK30gr",
        "outputId": "05a38a04-102e-4101-87f1-bbfd9dedc88d"
      },
      "outputs": [
        {
          "data": {
            "image/png": "[encoded data removed]",
            "text/plain": [
              "<Figure size 1080x432 with 2 Axes>"
            ]
          },
          "metadata": {
            "needs_background": "light"
          },
          "output_type": "display_data"
        }
      ],
      "source": [
        "# Plot the loss Function:\n",
        "import matplotlib.pyplot as plt\n",
        "fig, ax = plt.subplots(1, 2, figsize = (15, 6), sharex = True, sharey = True)\n",
        "y_pred = np.linspace(0.0001, 0.9999, 100)\n",
        "ax[0].plot(y_pred, log_loss(0, y_pred), color = 'red')\n",
        "ax[0].set_title(\"y = 0\", fontsize = 14)\n",
        "ax[0].set_xlabel(\"y_pred\", fontsize = 14)\n",
        "ax[0].set_ylabel(\"log loss\", fontsize = 14)\n",
        "ax[1].plot(y_pred, log_loss(1, y_pred), color = 'red')\n",
        "ax[1].set_title(\"y = 1\", fontsize = 14)\n",
        "ax[1].set_xlabel(\"y_pred\", fontsize = 14)\n",
        "plt.tight_layout()\n",
        "plt.show()"
      ]
    },
    {
      "cell_type": "markdown",
      "metadata": {
        "id": "nKRbJzqS4W9D"
      },
      "source": [
        "### Cost Function:\n",
        "As described above, we determine the cost function as an average of loss function value calculated for each observation/datapoints.\n",
        "\n",
        "Let $y = (y_1,....,y_n)$ be the true target values{(0 or 1)}  and $y'=(y_1',....y_n')$ be the corresponding predicted target values in between {(0-1)}, then the cost function be:\n",
        "\n",
        "$$ C(\\mathbf{y}, \\mathbf{y'}) = \\frac{1}{n}\\sum_{i = 1}^n L(y_i, y_i').\\tag{0} $$\n"
      ]
    },
    {
      "cell_type": "code",
      "execution_count": null,
      "metadata": {
        "colab": {
          "base_uri": "https://localhost:8080/"
        },
        "id": "938aG1sz95b6",
        "outputId": "c4645eac-7f72-40f5-8534-c02eb0135bcc"
      },
      "outputs": [
        {
          "output_type": "stream",
          "name": "stdout",
          "text": [
            "cost_function([0 1 0], [0.4  0.6  0.25]) = 0.43644443999458743\n"
          ]
        }
      ],
      "source": [
        "import numpy as np\n",
        "\n",
        "# Cost function - using vectorization\n",
        "def cost_function(y_true, y_pred):\n",
        "    \"\"\"\n",
        "    Computes log loss for inputs true value (0 or 1) and predicted value (between 0 and 1)\n",
        "    Args:\n",
        "      y_true    (array_like, shape (m,)): array of true values (0 or 1)\n",
        "      y_pred (array_like, shape (m,)): array of predicted values (probability of y_pred being 1)\n",
        "    Returns:\n",
        "      cost (float): nonnegative cost corresponding to y_true and y_pred\n",
        "    \"\"\"\n",
        "    assert len(y_true) == len(y_pred), \"Length of true values and length of predicted values do not match\"\n",
        "\n",
        "    n = len(y_true)\n",
        "\n",
        "    loss_vec = np.array([log_loss(y_true[i], y_pred[i]) for i in range(n)])\n",
        "\n",
        "    cost = np.sum(loss_vec) / n\n",
        "\n",
        "    return cost\n",
        "\n",
        "y_true, y_pred = np.array([0, 1, 0]), np.array([0.4, 0.6, 0.25])\n",
        "print(f\"cost_function({y_true}, {y_pred}) = {cost_function(y_true, y_pred)}\")"
      ]
    },
    {
      "cell_type": "markdown",
      "metadata": {
        "id": "--SYJgFONMZj"
      },
      "source": [
        "Extending the cost function for logistic regression to be used with model parameters.\n",
        "\n",
        "Function we are estimating:\n",
        "\n",
        "$$ y' = g\\left(\\mathbf{x} \\cdot \\mathbf{θ} + b\\right) = \\frac{1}{1 + e^{-\\left(\\mathbf{x} \\cdot \\mathbf{\\theta} + b\\right)}}. \\tag{1} $$\n",
        "\n",
        "Where:\n",
        "- $\\theta$ parameters (Coefficinet of feature variable) also known as weights.\n",
        "-$b$ parameters ( intercept of the function) also known as bias.\n",
        "\n",
        "Assume;\n",
        "- X: Matirix of n independent variables;\n",
        "- Y: Matrix of n dependent variables;\n",
        "- Y': Matrix of n predicted variables; and are represented as follows:\n",
        "\n",
        "$$ \\mathbf{X} = \\begin{pmatrix}\n",
        "x_{1,1} & x_{1,2} & \\cdots & x_{1,n} \\newline\n",
        "x_{2,1} & x_{2,2} & \\cdots & x_{2,n} \\newline\n",
        "\\vdots & \\vdots & \\ddots & \\vdots \\newline\n",
        "x_{m,1} & x_{m,2} & \\cdots & x_{m,n}\n",
        "\\end{pmatrix},\\;\\;\\;\\;\n",
        "\\mathbf{y} = \\begin{pmatrix}\n",
        "y_1 \\newline\n",
        "y_2 \\newline\n",
        "\\vdots \\newline\n",
        "y_m\n",
        "\\end{pmatrix},\\;\\;\\;\\;\n",
        "\\mathbf{y'} = \\begin{pmatrix}\n",
        "g\\left(\\mathbf{x_1} \\cdot \\mathbf{\\theta} + b\\right) \\newline\n",
        "g\\left(\\mathbf{x_2} \\cdot \\mathbf{\\theta} + b\\right) \\newline\n",
        "\\vdots \\newline\n",
        "g\\left(\\mathbf{x_n} \\cdot \\mathbf{\\theta} + b\\right)\n",
        "\\end{pmatrix}. \\tag{2} $$\n",
        "\n",
        "Now rewrite cost funtion defined in $(0)$ for model parameters as:\n",
        "\n",
        "$$ J\\left(\\mathbf{w}, b\\right) := C\\left(\\mathbf{y}, \\mathbf{y'} \\,\\vert\\, \\mathbf{X}, \\mathbf{w}, b \\right) = \\frac{1}{m}\\sum_{i = 1}^m L\\left(y_i, \\frac{1}{1 + e^{-\\left(\\mathbf{x_i} \\cdot \\mathbf{w} + b\\right)}}\\right) $$\n",
        "$$= \\frac{1}{m}\\sum_{i = 1}^m \\left[ -y_i \\log\\left(\\frac{1}{1 + e^{-\\left(\\mathbf{x_i} \\cdot \\mathbf{w} + b\\right)}}\\right) - \\left(1 - y_i\\right) \\log\\left(1 - \\frac{1}{1 + e^{-\\left(\\mathbf{x_i} \\cdot \\mathbf{w} + b\\right)}}\\right) \\right]. \\tag{3} $$\n"
      ]
    },
    {
      "cell_type": "code",
      "execution_count": null,
      "metadata": {
        "colab": {
          "base_uri": "https://localhost:8080/"
        },
        "id": "W5k8Pi5r5ipE",
        "outputId": "fd7d58aa-7053-4b1c-bf78-69606bdef12b"
      },
      "outputs": [
        {
          "output_type": "stream",
          "name": "stdout",
          "text": [
            "cost for logistic regression(X = [[ 10  20]\n",
            " [-10  10]], y = [1 0], w = [0.5 1.5], b = 1) = 5.500008350784906\n"
          ]
        }
      ],
      "source": [
        "# Function to compute cost function in terms of model parameters - using vectorization\n",
        "def costfunction_logreg(X, y, w, b):\n",
        "    \"\"\"\n",
        "    Computes the cost function, given data and model parameters\n",
        "    Args:\n",
        "      X (ndarray, shape (m,n))  : data on features, m observations with n features\n",
        "      y (array_like, shape (m,)): array of true values of target (0 or 1)\n",
        "      w (array_like, shape (n,)): weight parameters of the model\n",
        "      b (float)                 : bias parameter of the model\n",
        "    Returns:\n",
        "      cost (float): nonnegative cost corresponding to y and y_dash\n",
        "    \"\"\"\n",
        "    m, n = X.shape\n",
        "    assert len(y) == m, \"Number of feature observations and number of target observations do not match\"\n",
        "    assert len(w) == n, \"Number of features and number of weight parameters do not match\"\n",
        "    z = np.dot(X, w) + b\n",
        "    y_pred = logistic_function(z)\n",
        "    cost = cost_function(y, y_pred)\n",
        "    return cost\n",
        "\n",
        "X, y, w, b = np.array([[10, 20], [-10, 10]]), np.array([1, 0]), np.array([0.5, 1.5]), 1\n",
        "print(f\"cost for logistic regression(X = {X}, y = {y}, w = {w}, b = {b}) = {costfunction_logreg(X, y, w, b)}\")"
      ]
    },
    {
      "cell_type": "markdown",
      "metadata": {
        "id": "DAGw3-xqXJkW"
      },
      "source": [
        "### Gradient Descent Algorithm\n",
        "\n",
        "The gradient descent algorithm is a first order iterative optimization algorithm for finding alocal minimum of a differentiable function.\n",
        "\n",
        "The Algorithm:\n",
        "$$ \\begin{align*}\n",
        "& \\text{repeat until convergence:}\\; \\{ \\newline\n",
        "& w_j := w_j -  \\alpha \\frac{\\partial J(\\mathbf{w},b)}{\\partial w_j},\\; \\text{ for } j = 1, 2, \\ldots, n; \\newline\n",
        "& b := b -  \\alpha \\frac{\\partial J(\\mathbf{w}, b)}{\\partial b}. \\tag{4} \\newline\n",
        "& \\}\n",
        "\\end{align*} $$\n",
        "\n",
        "- where $\\alpha$ is the learning rate, and the parameters $\\mathbf{w} = (w_1, w_2, \\cdots, w_n)$ and $b$ are updated simultaniously in each iteration.\n",
        "\n",
        "\n"
      ]
    },
    {
      "cell_type": "markdown",
      "metadata": {
        "id": "7z9-J9sKX0Sd"
      },
      "source": [
        "**Compute Gradient:**\n",
        "\n",
        "Before we can implement the gradient descent algorithm, we need to compute the gradients, which are the partial derivatives of cost function $J(w,b)$ and are as follows:\n",
        "\n",
        "\n",
        "$$ \\begin{align*}\n",
        "& \\frac{\\partial J(\\mathbf{w},b)}{\\partial w_j} = \\frac{1}{m} \\sum\\limits_{i = 1}^m \\left(\\frac{1}{1 + e^{-\\left(\\mathbf{x_i} \\cdot \\mathbf{w} + b\\right)}} - y_i\\right) x_{i,j},\\;\\; \\text{ for } j = 1, 2, \\ldots, n; \\newline\n",
        "& \\frac{\\partial J(\\mathbf{w}, b)}{\\partial b} = \\frac{1}{m} \\sum\\limits_{i = 1}^m \\left(\\frac{1}{1 + e^{-\\left(\\mathbf{x_i} \\cdot \\mathbf{w} + b\\right)}} - y_i\\right).\n",
        "\\end{align*} $$"
      ]
    },
    {
      "cell_type": "code",
      "execution_count": null,
      "metadata": {
        "colab": {
          "base_uri": "https://localhost:8080/"
        },
        "id": "cH6F9uAhYWlL",
        "outputId": "8e2f99df-152e-4c9d-ea32-f782d9f0d817"
      },
      "outputs": [
        {
          "output_type": "stream",
          "name": "stdout",
          "text": [
            "Gradient of logistic regression parameters (X = [[ 10  20]\n",
            " [-10  10]], y = [1 0], w = [0.5 1.5], b = 1) = (grad_w = [-4.99991649  4.99991649], grad_b = 0.4999916492890759)\n"
          ]
        }
      ],
      "source": [
        "import numpy as np\n",
        "\n",
        "def compute_gradient(X, y, w, b):\n",
        "    \"\"\"\n",
        "    Computes gradients of the cost function with respect to model parameters.\n",
        "    Args:\n",
        "      X (ndarray, shape (m,n))  : data on features, m observations with n features\n",
        "      y (array_like, shape (m,)): array of true values of target (0 or 1)\n",
        "      w (array_like, shape (n,)): weight parameters of the model\n",
        "      b (float)                 : bias parameter of the model\n",
        "    Returns:\n",
        "      grad_w (array_like, shape (n,)): gradients of the cost function with respect to the weight parameters\n",
        "      grad_b (float)                 : gradient of the cost function with respect to the bias parameter\n",
        "    \"\"\"\n",
        "    m, n = X.shape\n",
        "    assert len(y) == m, \"Number of feature observations and number of target observations do not match\"\n",
        "    assert len(w) == n, \"Number of features and number of weight parameters do not match\"\n",
        "\n",
        "    # Compute predictions using the sigmoid function\n",
        "    z = np.dot(X, w) + b\n",
        "    y_pred = 1 / (1 + np.exp(-z))  # Sigmoid function\n",
        "\n",
        "    # Compute gradients\n",
        "    error = y_pred - y\n",
        "    grad_w = (1 / m) * np.dot(X.T, error)  # Gradient wrt weights\n",
        "    grad_b = (1 / m) * np.sum(error)       # Gradient wrt bias\n",
        "\n",
        "    return grad_w, grad_b\n",
        "\n",
        "# Test the function\n",
        "X = np.array([[10, 20], [-10, 10]])  # Feature matrix\n",
        "y = np.array([1, 0])                # True target values\n",
        "w = np.array([0.5, 1.5])            # Model weights\n",
        "b = 1                               # Bias term\n",
        "\n",
        "grad_w, grad_b = compute_gradient(X, y, w, b)\n",
        "print(f\"Gradient of logistic regression parameters (X = {X}, y = {y}, w = {w}, b = {b}) = (grad_w = {grad_w}, grad_b = {grad_b})\")\n"
      ]
    },
    {
      "cell_type": "markdown",
      "metadata": {
        "id": "T1KuJlZQYxJU"
      },
      "source": [
        "**Implement Gradient Descent for Logistic Regression.**"
      ]
    },
    {
      "cell_type": "code",
      "execution_count": null,
      "metadata": {
        "colab": {
          "base_uri": "https://localhost:8080/"
        },
        "id": "hd8IKGNIY4Dj",
        "outputId": "12b80019-6cca-4129-c677-b6cd7eac2df5"
      },
      "outputs": [
        {
          "output_type": "stream",
          "name": "stderr",
          "text": [
            "Gradient Descent Progress: 100%|██████████| 1000/1000 [00:00<00:00, 22031.92it/s]"
          ]
        },
        {
          "output_type": "stream",
          "name": "stdout",
          "text": [
            "Final weights: [4.30539485 2.10704574]\n",
            "Final bias: -0.30434456824754946\n"
          ]
        },
        {
          "output_type": "stream",
          "name": "stderr",
          "text": [
            "\n"
          ]
        }
      ],
      "source": [
        "import numpy as np\n",
        "from tqdm import tqdm\n",
        "\n",
        "def compute_cost(X, y, w, b):\n",
        "    \"\"\"\n",
        "    Computes the logistic regression cost function.\n",
        "    \"\"\"\n",
        "    m = len(y)\n",
        "    z = np.dot(X, w) + b\n",
        "    y_pred = 1 / (1 + np.exp(-z))  # Sigmoid\n",
        "    epsilon = 1e-15  # To avoid log(0)\n",
        "    cost = -(1 / m) * np.sum(y * np.log(np.clip(y_pred, epsilon, 1 - epsilon)) +\n",
        "                             (1 - y) * np.log(np.clip(1 - y_pred, epsilon, 1 - epsilon)))\n",
        "    return cost\n",
        "\n",
        "def compute_gradient(X, y, w, b):\n",
        "    \"\"\"\n",
        "    Computes gradients of the cost function with respect to model parameters.\n",
        "    \"\"\"\n",
        "    m, n = X.shape\n",
        "    z = np.dot(X, w) + b\n",
        "    y_pred = 1 / (1 + np.exp(-z))  # Sigmoid\n",
        "    error = y_pred - y\n",
        "    grad_w = (1 / m) * np.dot(X.T, error)  # Gradient wrt weights\n",
        "    grad_b = (1 / m) * np.sum(error)       # Gradient wrt bias\n",
        "    return grad_w, grad_b\n",
        "\n",
        "def gradient_descent(X, y, w, b, alpha, n_iter, show_cost=True, show_params=False):\n",
        "    \"\"\"\n",
        "    Implements batch gradient descent algorithm to learn and update model parameters.\n",
        "    \"\"\"\n",
        "    m, n = X.shape\n",
        "    assert len(y) == m, \"Number of feature observations and number of target observations do not match\"\n",
        "    assert len(w) == n, \"Number of features and number of weight parameters do not match\"\n",
        "\n",
        "    cost_history, params_history = [], []\n",
        "\n",
        "    for i in tqdm(range(n_iter), desc=\"Gradient Descent Progress\"):\n",
        "        grad_w, grad_b = compute_gradient(X, y, w, b)\n",
        "\n",
        "        # Update weights and bias\n",
        "        w -= alpha * grad_w\n",
        "        b -= alpha * grad_b\n",
        "\n",
        "        # Compute and store cost\n",
        "        if show_cost or show_params:\n",
        "            cost = compute_cost(X, y, w, b)\n",
        "            cost_history.append(cost)\n",
        "            params_history.append([w.copy(), b])\n",
        "\n",
        "        # Display cost or parameters if required\n",
        "        if show_cost and i % (n_iter // 10) == 0:\n",
        "            print(f\"Iteration {i}: Cost = {cost}\")\n",
        "        if show_params and i % (n_iter // 10) == 0:\n",
        "            print(f\"Iteration {i}: w = {w}, b = {b}\")\n",
        "\n",
        "    return w, b, cost_history, params_history\n",
        "\n",
        "# Test the gradient descent function\n",
        "X = np.array([[0.1, 0.2], [-0.1, 0.1]])  # Feature matrix\n",
        "y = np.array([1, 0])                    # True target values\n",
        "w = np.array([0., 0.])                  # Initial weights\n",
        "b = 0.                                  # Initial bias\n",
        "alpha = 0.1                             # Learning rate\n",
        "n_iter = 1000                           # Number of iterations\n",
        "\n",
        "w_out, b_out, cost_history, params_history = gradient_descent(X, y, w, b, alpha, n_iter, show_cost=False, show_params=False)\n",
        "\n",
        "print(f\"Final weights: {w_out}\")\n",
        "print(f\"Final bias: {b_out}\")\n"
      ]
    },
    {
      "cell_type": "code",
      "execution_count": null,
      "metadata": {
        "colab": {
          "base_uri": "https://localhost:8080/",
          "height": 607
        },
        "id": "bI96yman53sw",
        "outputId": "e7df33c4-c77b-4d79-b912-16cfc4e91343"
      },
      "outputs": [
        {
          "output_type": "display_data",
          "data": {
            "text/plain": [
              "<Figure size 900x600 with 1 Axes>"
            ],
            "image/png": "[encoded data removed]"
          },
          "metadata": {}
        }
      ],
      "source": [
        "# Plotting cost over iteration\n",
        "plt.figure(figsize = (9, 6))\n",
        "plt.plot(cost_history)\n",
        "plt.xlabel(\"Iteration\", fontsize = 14)\n",
        "plt.ylabel(\"Cost\", fontsize = 14)\n",
        "plt.title(\"Cost vs Iteration\", fontsize = 14)\n",
        "plt.tight_layout()\n",
        "plt.show()"
      ]
    },
    {
      "cell_type": "markdown",
      "metadata": {
        "id": "qXOAgvPxabDh"
      },
      "source": [
        "# Logistic Regression-Scratch Implementation."
      ]
    },
    {
      "cell_type": "code",
      "execution_count": null,
      "metadata": {
        "id": "V_aT7vJFaPwB"
      },
      "outputs": [],
      "source": [
        "path_dataset = \"/content/drive/MyDrive/5CS037-Workshops/Reg-Portfolio/Iris.csv\""
      ]
    },
    {
      "cell_type": "code",
      "execution_count": null,
      "metadata": {
        "id": "5CdYY2dYuIcr"
      },
      "outputs": [],
      "source": [
        "import numpy as np\n",
        "import pandas as pd\n",
        "import matplotlib.pyplot as plt\n"
      ]
    },
    {
      "cell_type": "code",
      "source": [
        "from google.colab import drive\n",
        "drive.mount('/content/drive')"
      ],
      "metadata": {
        "id": "W0zbVQ7ixkxH"
      },
      "execution_count": null,
      "outputs": []
    },
    {
      "cell_type": "code",
      "execution_count": null,
      "metadata": {
        "id": "jwYRQb82vgh4"
      },
      "outputs": [],
      "source": [
        "data = pd.read_csv(path_dataset)"
      ]
    },
    {
      "cell_type": "code",
      "execution_count": null,
      "metadata": {
        "colab": {
          "base_uri": "https://localhost:8080/",
          "height": 206
        },
        "id": "USgZSg4KvkIo",
        "outputId": "cf3ee07b-2b93-4f1d-d898-d14887c19b32"
      },
      "outputs": [
        {
          "data": {
            "text/html": [
              "\n",
              "  <div id=\"df-42f9d8e9-05a4-4ce8-84d0-5133fbf5ebc9\">\n",
              "    <div class=\"colab-df-container\">\n",
              "      <div>\n",
              "<style scoped>\n",
              "    .dataframe tbody tr th:only-of-type {\n",
              "        vertical-align: middle;\n",
              "    }\n",
              "\n",
              "    .dataframe tbody tr th {\n",
              "        vertical-align: top;\n",
              "    }\n",
              "\n",
              "    .dataframe thead th {\n",
              "        text-align: right;\n",
              "    }\n",
              "</style>\n",
              "<table border=\"1\" class=\"dataframe\">\n",
              "  <thead>\n",
              "    <tr style=\"text-align: right;\">\n",
              "      <th></th>\n",
              "      <th>Id</th>\n",
              "      <th>SepalLengthCm</th>\n",
              "      <th>SepalWidthCm</th>\n",
              "      <th>PetalLengthCm</th>\n",
              "      <th>PetalWidthCm</th>\n",
              "      <th>Species</th>\n",
              "    </tr>\n",
              "  </thead>\n",
              "  <tbody>\n",
              "    <tr>\n",
              "      <th>0</th>\n",
              "      <td>1</td>\n",
              "      <td>5.1</td>\n",
              "      <td>3.5</td>\n",
              "      <td>1.4</td>\n",
              "      <td>0.2</td>\n",
              "      <td>Iris-setosa</td>\n",
              "    </tr>\n",
              "    <tr>\n",
              "      <th>1</th>\n",
              "      <td>2</td>\n",
              "      <td>4.9</td>\n",
              "      <td>3.0</td>\n",
              "      <td>1.4</td>\n",
              "      <td>0.2</td>\n",
              "      <td>Iris-setosa</td>\n",
              "    </tr>\n",
              "    <tr>\n",
              "      <th>2</th>\n",
              "      <td>3</td>\n",
              "      <td>4.7</td>\n",
              "      <td>3.2</td>\n",
              "      <td>1.3</td>\n",
              "      <td>0.2</td>\n",
              "      <td>Iris-setosa</td>\n",
              "    </tr>\n",
              "    <tr>\n",
              "      <th>3</th>\n",
              "      <td>4</td>\n",
              "      <td>4.6</td>\n",
              "      <td>3.1</td>\n",
              "      <td>1.5</td>\n",
              "      <td>0.2</td>\n",
              "      <td>Iris-setosa</td>\n",
              "    </tr>\n",
              "    <tr>\n",
              "      <th>4</th>\n",
              "      <td>5</td>\n",
              "      <td>5.0</td>\n",
              "      <td>3.6</td>\n",
              "      <td>1.4</td>\n",
              "      <td>0.2</td>\n",
              "      <td>Iris-setosa</td>\n",
              "    </tr>\n",
              "  </tbody>\n",
              "</table>\n",
              "</div>\n",
              "      <button class=\"colab-df-convert\" onclick=\"convertToInteractive('df-42f9d8e9-05a4-4ce8-84d0-5133fbf5ebc9')\"\n",
              "              title=\"Convert this dataframe to an interactive table.\"\n",
              "              style=\"display:none;\">\n",
              "        \n",
              "  <svg xmlns=\"http://www.w3.org/2000/svg\" height=\"24px\"viewBox=\"0 0 24 24\"\n",
              "       width=\"24px\">\n",
              "    <path d=\"M0 0h24v24H0V0z\" fill=\"none\"/>\n",
              "    <path d=\"M18.56 5.44l.94 2.06.94-2.06 2.06-.94-2.06-.94-.94-2.06-.94 2.06-2.06.94zm-11 1L8.5 8.5l.94-2.06 2.06-.94-2.06-.94L8.5 2.5l-.94 2.06-2.06.94zm10 10l.94 2.06.94-2.06 2.06-.94-2.06-.94-.94-2.06-.94 2.06-2.06.94z\"/><path d=\"M17.41 7.96l-1.37-1.37c-.4-.4-.92-.59-1.43-.59-.52 0-1.04.2-1.43.59L10.3 9.45l-7.72 7.72c-.78.78-.78 2.05 0 2.83L4 21.41c.39.39.9.59 1.41.59.51 0 1.02-.2 1.41-.59l7.78-7.78 2.81-2.81c.8-.78.8-2.07 0-2.86zM5.41 20L4 18.59l7.72-7.72 1.47 1.35L5.41 20z\"/>\n",
              "  </svg>\n",
              "      </button>\n",
              "      \n",
              "  <style>\n",
              "    .colab-df-container {\n",
              "      display:flex;\n",
              "      flex-wrap:wrap;\n",
              "      gap: 12px;\n",
              "    }\n",
              "\n",
              "    .colab-df-convert {\n",
              "      background-color: #E8F0FE;\n",
              "      border: none;\n",
              "      border-radius: 50%;\n",
              "      cursor: pointer;\n",
              "      display: none;\n",
              "      fill: #1967D2;\n",
              "      height: 32px;\n",
              "      padding: 0 0 0 0;\n",
              "      width: 32px;\n",
              "    }\n",
              "\n",
              "    .colab-df-convert:hover {\n",
              "      background-color: #E2EBFA;\n",
              "      box-shadow: 0px 1px 2px rgba(60, 64, 67, 0.3), 0px 1px 3px 1px rgba(60, 64, 67, 0.15);\n",
              "      fill: #174EA6;\n",
              "    }\n",
              "\n",
              "    [theme=dark] .colab-df-convert {\n",
              "      background-color: #3B4455;\n",
              "      fill: #D2E3FC;\n",
              "    }\n",
              "\n",
              "    [theme=dark] .colab-df-convert:hover {\n",
              "      background-color: #434B5C;\n",
              "      box-shadow: 0px 1px 3px 1px rgba(0, 0, 0, 0.15);\n",
              "      filter: drop-shadow(0px 1px 2px rgba(0, 0, 0, 0.3));\n",
              "      fill: #FFFFFF;\n",
              "    }\n",
              "  </style>\n",
              "\n",
              "      <script>\n",
              "        const buttonEl =\n",
              "          document.querySelector('#df-42f9d8e9-05a4-4ce8-84d0-5133fbf5ebc9 button.colab-df-convert');\n",
              "        buttonEl.style.display =\n",
              "          google.colab.kernel.accessAllowed ? 'block' : 'none';\n",
              "\n",
              "        async function convertToInteractive(key) {\n",
              "          const element = document.querySelector('#df-42f9d8e9-05a4-4ce8-84d0-5133fbf5ebc9');\n",
              "          const dataTable =\n",
              "            await google.colab.kernel.invokeFunction('convertToInteractive',\n",
              "                                                     [key], {});\n",
              "          if (!dataTable) return;\n",
              "\n",
              "          const docLinkHtml = 'Like what you see? Visit the ' +\n",
              "            '<a target=\"_blank\" href=https://colab.research.google.com/notebooks/data_table.ipynb>data table notebook</a>'\n",
              "            + ' to learn more about interactive tables.';\n",
              "          element.innerHTML = '';\n",
              "          dataTable['output_type'] = 'display_data';\n",
              "          await google.colab.output.renderOutput(dataTable, element);\n",
              "          const docLink = document.createElement('div');\n",
              "          docLink.innerHTML = docLinkHtml;\n",
              "          element.appendChild(docLink);\n",
              "        }\n",
              "      </script>\n",
              "    </div>\n",
              "  </div>\n",
              "  "
            ],
            "text/plain": [
              "   Id  SepalLengthCm  SepalWidthCm  PetalLengthCm  PetalWidthCm      Species\n",
              "0   1            5.1           3.5            1.4           0.2  Iris-setosa\n",
              "1   2            4.9           3.0            1.4           0.2  Iris-setosa\n",
              "2   3            4.7           3.2            1.3           0.2  Iris-setosa\n",
              "3   4            4.6           3.1            1.5           0.2  Iris-setosa\n",
              "4   5            5.0           3.6            1.4           0.2  Iris-setosa"
            ]
          },
          "execution_count": 14,
          "metadata": {},
          "output_type": "execute_result"
        }
      ],
      "source": [
        "data.head()"
      ]
    },
    {
      "cell_type": "code",
      "execution_count": null,
      "metadata": {
        "colab": {
          "base_uri": "https://localhost:8080/"
        },
        "id": "fLM-ywy8vl7W",
        "outputId": "60a20b25-cab2-486f-9ab5-6a4dc918bdff"
      },
      "outputs": [
        {
          "name": "stdout",
          "output_type": "stream",
          "text": [
            "(150, 6)\n"
          ]
        }
      ],
      "source": [
        "\n",
        "print(data.shape)"
      ]
    },
    {
      "cell_type": "code",
      "execution_count": null,
      "metadata": {
        "colab": {
          "base_uri": "https://localhost:8080/"
        },
        "id": "c_9e-pvYvoOG",
        "outputId": "64d0676a-71cd-466b-e8ad-1eefca316e66"
      },
      "outputs": [
        {
          "name": "stdout",
          "output_type": "stream",
          "text": [
            "<class 'pandas.core.frame.DataFrame'>\n",
            "RangeIndex: 150 entries, 0 to 149\n",
            "Data columns (total 6 columns):\n",
            " #   Column         Non-Null Count  Dtype  \n",
            "---  ------         --------------  -----  \n",
            " 0   Id             150 non-null    int64  \n",
            " 1   SepalLengthCm  150 non-null    float64\n",
            " 2   SepalWidthCm   150 non-null    float64\n",
            " 3   PetalLengthCm  150 non-null    float64\n",
            " 4   PetalWidthCm   150 non-null    float64\n",
            " 5   Species        150 non-null    object \n",
            "dtypes: float64(4), int64(1), object(1)\n",
            "memory usage: 7.2+ KB\n"
          ]
        }
      ],
      "source": [
        "data.info()"
      ]
    },
    {
      "cell_type": "code",
      "execution_count": null,
      "metadata": {
        "colab": {
          "base_uri": "https://localhost:8080/"
        },
        "id": "XbakzEvA1HkS",
        "outputId": "eae01fe8-5541-4765-ed69-e80615b66252"
      },
      "outputs": [
        {
          "name": "stdout",
          "output_type": "stream",
          "text": [
            "<class 'pandas.core.frame.DataFrame'>\n",
            "RangeIndex: 150 entries, 0 to 149\n",
            "Data columns (total 5 columns):\n",
            " #   Column         Non-Null Count  Dtype  \n",
            "---  ------         --------------  -----  \n",
            " 0   SepalLengthCm  150 non-null    float64\n",
            " 1   SepalWidthCm   150 non-null    float64\n",
            " 2   PetalLengthCm  150 non-null    float64\n",
            " 3   PetalWidthCm   150 non-null    float64\n",
            " 4   Species        150 non-null    object \n",
            "dtypes: float64(4), object(1)\n",
            "memory usage: 6.0+ KB\n"
          ]
        }
      ],
      "source": [
        "data = data.drop([\"Id\"], axis=1)\n",
        "data.info()"
      ]
    },
    {
      "cell_type": "code",
      "execution_count": null,
      "metadata": {
        "id": "qkXqaIfWvq3m"
      },
      "outputs": [],
      "source": [
        "data.Species = data.Species.replace(data.Species.unique(),[*range(len(data.Species.unique()))])"
      ]
    },
    {
      "cell_type": "code",
      "execution_count": null,
      "metadata": {
        "colab": {
          "base_uri": "https://localhost:8080/",
          "height": 424
        },
        "id": "ze1dC6Mqw-V7",
        "outputId": "4f2a1849-98bc-440f-bd07-1f7696c0bda1"
      },
      "outputs": [
        {
          "data": {
            "text/html": [
              "\n",
              "  <div id=\"df-53af7282-2c39-48d1-bf2f-5de3b89e6998\">\n",
              "    <div class=\"colab-df-container\">\n",
              "      <div>\n",
              "<style scoped>\n",
              "    .dataframe tbody tr th:only-of-type {\n",
              "        vertical-align: middle;\n",
              "    }\n",
              "\n",
              "    .dataframe tbody tr th {\n",
              "        vertical-align: top;\n",
              "    }\n",
              "\n",
              "    .dataframe thead th {\n",
              "        text-align: right;\n",
              "    }\n",
              "</style>\n",
              "<table border=\"1\" class=\"dataframe\">\n",
              "  <thead>\n",
              "    <tr style=\"text-align: right;\">\n",
              "      <th></th>\n",
              "      <th>SepalLengthCm</th>\n",
              "      <th>SepalWidthCm</th>\n",
              "      <th>PetalLengthCm</th>\n",
              "      <th>PetalWidthCm</th>\n",
              "      <th>Species</th>\n",
              "    </tr>\n",
              "  </thead>\n",
              "  <tbody>\n",
              "    <tr>\n",
              "      <th>0</th>\n",
              "      <td>5.1</td>\n",
              "      <td>3.5</td>\n",
              "      <td>1.4</td>\n",
              "      <td>0.2</td>\n",
              "      <td>0</td>\n",
              "    </tr>\n",
              "    <tr>\n",
              "      <th>1</th>\n",
              "      <td>4.9</td>\n",
              "      <td>3.0</td>\n",
              "      <td>1.4</td>\n",
              "      <td>0.2</td>\n",
              "      <td>0</td>\n",
              "    </tr>\n",
              "    <tr>\n",
              "      <th>2</th>\n",
              "      <td>4.7</td>\n",
              "      <td>3.2</td>\n",
              "      <td>1.3</td>\n",
              "      <td>0.2</td>\n",
              "      <td>0</td>\n",
              "    </tr>\n",
              "    <tr>\n",
              "      <th>3</th>\n",
              "      <td>4.6</td>\n",
              "      <td>3.1</td>\n",
              "      <td>1.5</td>\n",
              "      <td>0.2</td>\n",
              "      <td>0</td>\n",
              "    </tr>\n",
              "    <tr>\n",
              "      <th>4</th>\n",
              "      <td>5.0</td>\n",
              "      <td>3.6</td>\n",
              "      <td>1.4</td>\n",
              "      <td>0.2</td>\n",
              "      <td>0</td>\n",
              "    </tr>\n",
              "    <tr>\n",
              "      <th>...</th>\n",
              "      <td>...</td>\n",
              "      <td>...</td>\n",
              "      <td>...</td>\n",
              "      <td>...</td>\n",
              "      <td>...</td>\n",
              "    </tr>\n",
              "    <tr>\n",
              "      <th>95</th>\n",
              "      <td>5.7</td>\n",
              "      <td>3.0</td>\n",
              "      <td>4.2</td>\n",
              "      <td>1.2</td>\n",
              "      <td>1</td>\n",
              "    </tr>\n",
              "    <tr>\n",
              "      <th>96</th>\n",
              "      <td>5.7</td>\n",
              "      <td>2.9</td>\n",
              "      <td>4.2</td>\n",
              "      <td>1.3</td>\n",
              "      <td>1</td>\n",
              "    </tr>\n",
              "    <tr>\n",
              "      <th>97</th>\n",
              "      <td>6.2</td>\n",
              "      <td>2.9</td>\n",
              "      <td>4.3</td>\n",
              "      <td>1.3</td>\n",
              "      <td>1</td>\n",
              "    </tr>\n",
              "    <tr>\n",
              "      <th>98</th>\n",
              "      <td>5.1</td>\n",
              "      <td>2.5</td>\n",
              "      <td>3.0</td>\n",
              "      <td>1.1</td>\n",
              "      <td>1</td>\n",
              "    </tr>\n",
              "    <tr>\n",
              "      <th>99</th>\n",
              "      <td>5.7</td>\n",
              "      <td>2.8</td>\n",
              "      <td>4.1</td>\n",
              "      <td>1.3</td>\n",
              "      <td>1</td>\n",
              "    </tr>\n",
              "  </tbody>\n",
              "</table>\n",
              "<p>100 rows × 5 columns</p>\n",
              "</div>\n",
              "      <button class=\"colab-df-convert\" onclick=\"convertToInteractive('df-53af7282-2c39-48d1-bf2f-5de3b89e6998')\"\n",
              "              title=\"Convert this dataframe to an interactive table.\"\n",
              "              style=\"display:none;\">\n",
              "        \n",
              "  <svg xmlns=\"http://www.w3.org/2000/svg\" height=\"24px\"viewBox=\"0 0 24 24\"\n",
              "       width=\"24px\">\n",
              "    <path d=\"M0 0h24v24H0V0z\" fill=\"none\"/>\n",
              "    <path d=\"M18.56 5.44l.94 2.06.94-2.06 2.06-.94-2.06-.94-.94-2.06-.94 2.06-2.06.94zm-11 1L8.5 8.5l.94-2.06 2.06-.94-2.06-.94L8.5 2.5l-.94 2.06-2.06.94zm10 10l.94 2.06.94-2.06 2.06-.94-2.06-.94-.94-2.06-.94 2.06-2.06.94z\"/><path d=\"M17.41 7.96l-1.37-1.37c-.4-.4-.92-.59-1.43-.59-.52 0-1.04.2-1.43.59L10.3 9.45l-7.72 7.72c-.78.78-.78 2.05 0 2.83L4 21.41c.39.39.9.59 1.41.59.51 0 1.02-.2 1.41-.59l7.78-7.78 2.81-2.81c.8-.78.8-2.07 0-2.86zM5.41 20L4 18.59l7.72-7.72 1.47 1.35L5.41 20z\"/>\n",
              "  </svg>\n",
              "      </button>\n",
              "      \n",
              "  <style>\n",
              "    .colab-df-container {\n",
              "      display:flex;\n",
              "      flex-wrap:wrap;\n",
              "      gap: 12px;\n",
              "    }\n",
              "\n",
              "    .colab-df-convert {\n",
              "      background-color: #E8F0FE;\n",
              "      border: none;\n",
              "      border-radius: 50%;\n",
              "      cursor: pointer;\n",
              "      display: none;\n",
              "      fill: #1967D2;\n",
              "      height: 32px;\n",
              "      padding: 0 0 0 0;\n",
              "      width: 32px;\n",
              "    }\n",
              "\n",
              "    .colab-df-convert:hover {\n",
              "      background-color: #E2EBFA;\n",
              "      box-shadow: 0px 1px 2px rgba(60, 64, 67, 0.3), 0px 1px 3px 1px rgba(60, 64, 67, 0.15);\n",
              "      fill: #174EA6;\n",
              "    }\n",
              "\n",
              "    [theme=dark] .colab-df-convert {\n",
              "      background-color: #3B4455;\n",
              "      fill: #D2E3FC;\n",
              "    }\n",
              "\n",
              "    [theme=dark] .colab-df-convert:hover {\n",
              "      background-color: #434B5C;\n",
              "      box-shadow: 0px 1px 3px 1px rgba(0, 0, 0, 0.15);\n",
              "      filter: drop-shadow(0px 1px 2px rgba(0, 0, 0, 0.3));\n",
              "      fill: #FFFFFF;\n",
              "    }\n",
              "  </style>\n",
              "\n",
              "      <script>\n",
              "        const buttonEl =\n",
              "          document.querySelector('#df-53af7282-2c39-48d1-bf2f-5de3b89e6998 button.colab-df-convert');\n",
              "        buttonEl.style.display =\n",
              "          google.colab.kernel.accessAllowed ? 'block' : 'none';\n",
              "\n",
              "        async function convertToInteractive(key) {\n",
              "          const element = document.querySelector('#df-53af7282-2c39-48d1-bf2f-5de3b89e6998');\n",
              "          const dataTable =\n",
              "            await google.colab.kernel.invokeFunction('convertToInteractive',\n",
              "                                                     [key], {});\n",
              "          if (!dataTable) return;\n",
              "\n",
              "          const docLinkHtml = 'Like what you see? Visit the ' +\n",
              "            '<a target=\"_blank\" href=https://colab.research.google.com/notebooks/data_table.ipynb>data table notebook</a>'\n",
              "            + ' to learn more about interactive tables.';\n",
              "          element.innerHTML = '';\n",
              "          dataTable['output_type'] = 'display_data';\n",
              "          await google.colab.output.renderOutput(dataTable, element);\n",
              "          const docLink = document.createElement('div');\n",
              "          docLink.innerHTML = docLinkHtml;\n",
              "          element.appendChild(docLink);\n",
              "        }\n",
              "      </script>\n",
              "    </div>\n",
              "  </div>\n",
              "  "
            ],
            "text/plain": [
              "    SepalLengthCm  SepalWidthCm  PetalLengthCm  PetalWidthCm  Species\n",
              "0             5.1           3.5            1.4           0.2        0\n",
              "1             4.9           3.0            1.4           0.2        0\n",
              "2             4.7           3.2            1.3           0.2        0\n",
              "3             4.6           3.1            1.5           0.2        0\n",
              "4             5.0           3.6            1.4           0.2        0\n",
              "..            ...           ...            ...           ...      ...\n",
              "95            5.7           3.0            4.2           1.2        1\n",
              "96            5.7           2.9            4.2           1.3        1\n",
              "97            6.2           2.9            4.3           1.3        1\n",
              "98            5.1           2.5            3.0           1.1        1\n",
              "99            5.7           2.8            4.1           1.3        1\n",
              "\n",
              "[100 rows x 5 columns]"
            ]
          },
          "execution_count": 19,
          "metadata": {},
          "output_type": "execute_result"
        }
      ],
      "source": [
        "binary_iris = data[data.Species!=2].reset_index(drop=True)\n",
        "binary_iris"
      ]
    },
    {
      "cell_type": "code",
      "execution_count": null,
      "metadata": {
        "id": "F7ZkU9oTxEZJ"
      },
      "outputs": [],
      "source": [
        "X = binary_iris.iloc[:, :-1].values\n",
        "Y = binary_iris.iloc[:,-1].values\n"
      ]
    },
    {
      "cell_type": "code",
      "execution_count": null,
      "metadata": {
        "colab": {
          "base_uri": "https://localhost:8080/"
        },
        "id": "yBolOOAg00UZ",
        "outputId": "451276eb-2e15-4310-b8e0-78a22d6600c5"
      },
      "outputs": [
        {
          "name": "stdout",
          "output_type": "stream",
          "text": [
            "Progress Further\n"
          ]
        }
      ],
      "source": [
        "# Sanity Check:\n",
        "if X.shape[0] == Y.shape[0]:\n",
        "  print(\"Progress Further\")\n",
        "else:\n",
        "  print(\"X and Y are not created correctly\")"
      ]
    },
    {
      "cell_type": "markdown",
      "metadata": {
        "id": "b3l2CA0F1u_y"
      },
      "source": [
        "# Train Test Split:"
      ]
    },
    {
      "cell_type": "code",
      "execution_count": null,
      "metadata": {
        "id": "-yPeV5Nu01lX"
      },
      "outputs": [],
      "source": [
        "from sklearn.model_selection import train_test_split\n",
        "x_train, x_test, y_train, y_test = train_test_split(X, Y, test_size=0.2, random_state=42)"
      ]
    },
    {
      "cell_type": "code",
      "execution_count": null,
      "metadata": {
        "colab": {
          "base_uri": "https://localhost:8080/"
        },
        "id": "l-8WO_TX1XpJ",
        "outputId": "f396da8b-54c9-4a01-c601-90d3a0ca91b9"
      },
      "outputs": [
        {
          "name": "stdout",
          "output_type": "stream",
          "text": [
            "Progress Further\n"
          ]
        }
      ],
      "source": [
        "# Sanity Check:\n",
        "if x_train.shape[0] == y_train.shape[0]:\n",
        "  print(\"Progress Further\")\n",
        "else:\n",
        "  print(\"x_train and y_train are not created correctly\")\n"
      ]
    },
    {
      "cell_type": "markdown",
      "metadata": {
        "id": "oWC1GJTG6KGg"
      },
      "source": [
        "# Model Fitting:\n",
        "\n",
        "Training of the Model:\n"
      ]
    },
    {
      "cell_type": "code",
      "execution_count": null,
      "metadata": {
        "colab": {
          "base_uri": "https://localhost:8080/",
          "height": 49,
          "referenced_widgets": [
            "37907937b1134aa29dd794d238dbeb35",
            "5739bd139cf54640abbb9a27d8ca269b",
            "42c69785eab74ec4abd53a9ef192fdcd",
            "385e1be2abbe4873b84ba10bcfa500f2",
            "5cffdd9385f048b58f7ba1dcd5d04da8",
            "e0256c24dbc948a7acb58f0338b9bf97",
            "dd6df4add89d483183b334da5a0292ea",
            "cf9c8463199e4a40be943c3354334874",
            "af618cac29e440a9bf88c87c35ffe377",
            "8b3bfd5ea14c4333a1a6aba9027506fe",
            "70f3244d4a77400fa54e8844ea598ada"
          ]
        },
        "id": "HDA8HhY82CPX",
        "outputId": "6ff453b0-f688-428c-e442-8215638f4c4a"
      },
      "outputs": [
        {
          "data": {
            "application/vnd.jupyter.widget-view+json": {
              "model_id": "37907937b1134aa29dd794d238dbeb35",
              "version_major": 2,
              "version_minor": 0
            },
            "text/plain": [
              "  0%|          | 0/2000 [00:00<?, ?it/s]"
            ]
          },
          "metadata": {},
          "output_type": "display_data"
        }
      ],
      "source": [
        "# Initiialization:\n",
        "w_init = np.zeros(x_train.shape[1])\n",
        "b_init = -1\n",
        "# Learning model parameters using gradient descent algorithm\n",
        "w_out, b_out, cost_history, params_history = gradient_descent(x_train,\n",
        "                                                       y_train,\n",
        "                                                       w = w_init,\n",
        "                                                       b = b_init,\n",
        "                                                       alpha = 0.1,\n",
        "                                                       n_iter = 2000)\n"
      ]
    },
    {
      "cell_type": "code",
      "execution_count": null,
      "metadata": {
        "colab": {
          "base_uri": "https://localhost:8080/",
          "height": 441
        },
        "id": "FnFlAjjI7B26",
        "outputId": "2d19b9f8-6f96-4376-8d97-93a0c12ddbdd"
      },
      "outputs": [
        {
          "data": {
            "image/png": "[encoded data removed]",
            "text/plain": [
              "<Figure size 648x432 with 1 Axes>"
            ]
          },
          "metadata": {
            "needs_background": "light"
          },
          "output_type": "display_data"
        }
      ],
      "source": [
        "# Plotting cost over iteration\n",
        "plt.figure(figsize = (9, 6))\n",
        "plt.plot(cost_history)\n",
        "plt.xlabel(\"Iteration\", fontsize = 14)\n",
        "plt.ylabel(\"Cost\", fontsize = 14)\n",
        "plt.title(\"Cost vs Iteration\", fontsize = 14)\n",
        "plt.tight_layout()\n",
        "plt.show()"
      ]
    },
    {
      "cell_type": "markdown",
      "metadata": {
        "id": "4Nt2tq4OIfRv"
      },
      "source": [
        "### **Prediction and Decision Boundry**\n",
        "- Prediction:\n",
        "\n",
        "  - Utilizing our trained weights and biases we first find the probabilities values y_probab for the x_test.\n",
        "Then, Y_probabiliy value is transformed to discrete class value using Decision boubdry.\n",
        "___\n",
        "- Decision Boundry:\n",
        "  - We first calculate the y_prediction as probabilities value, which is then converted to discrete class by using a threshold value. For instance, we take the threshold to be 0.5,then we classify the observation to class 1 and to class 0 otherwise.\n",
        "___\n",
        "\n",
        "\n"
      ]
    },
    {
      "cell_type": "code",
      "execution_count": null,
      "metadata": {
        "id": "eVJoulDp7Ppt"
      },
      "outputs": [],
      "source": [
        "from sklearn.metrics import confusion_matrix\n",
        "def prediction(x_test, w_out, b_out):\n",
        "  \"\"\"\n",
        "  Computes the prediction for given test values.\n",
        "  Arguments: Inputs\n",
        "  x_test (nd array): Array of Test Independent variables.\n",
        "  w_out (nd array): Array of weights learned via gradient descent.\n",
        "  b_out (nd array) Array of bias learned via gradiebt descent.\n",
        "  Arguments: Output\n",
        "  y_pred (nd arrray): Array of Predicted dependent Variables.\n",
        "  \"\"\"\n",
        "  y_test_prob = logistic_function(np.matmul(x_test, w_out) + (b_out * np.ones(x_test.shape[0])))\n",
        "  y_pred = []\n",
        "  # Your code here\n",
        "\n",
        "  return y_pred\n",
        "# y_pred = (y_test_prob > 0.5).astype(int)\n",
        "\n",
        "y_pred = prediction(x_test, w_out, b_out)\n",
        "y_pred = np.array(y_pred)"
      ]
    },
    {
      "cell_type": "code",
      "execution_count": null,
      "metadata": {
        "colab": {
          "base_uri": "https://localhost:8080/"
        },
        "id": "XV9A8zUSIPtG",
        "outputId": "33cd1023-a346-414f-b165-847fcc29381f"
      },
      "outputs": [
        {
          "data": {
            "text/plain": [
              "True"
            ]
          },
          "execution_count": 27,
          "metadata": {},
          "output_type": "execute_result"
        }
      ],
      "source": [
        "y_pred.shape == y_test.shape"
      ]
    },
    {
      "cell_type": "code",
      "execution_count": null,
      "metadata": {
        "colab": {
          "base_uri": "https://localhost:8080/"
        },
        "id": "ItzfMfRqIVNO",
        "outputId": "1b371243-f3a6-4ebc-d35e-a1c76463ab18"
      },
      "outputs": [
        {
          "data": {
            "text/plain": [
              "array([1, 1, 1, 0, 0, 0, 0, 1, 0, 0, 0, 0, 1, 0, 1, 0, 1, 1, 0, 0])"
            ]
          },
          "execution_count": 28,
          "metadata": {},
          "output_type": "execute_result"
        }
      ],
      "source": [
        "y_pred"
      ]
    },
    {
      "cell_type": "code",
      "execution_count": null,
      "metadata": {
        "colab": {
          "base_uri": "https://localhost:8080/"
        },
        "id": "U94YcuS5IXea",
        "outputId": "49d32552-7f0e-49ff-9b2f-e6e2dde1aa02"
      },
      "outputs": [
        {
          "data": {
            "text/plain": [
              "array([1, 1, 1, 0, 0, 0, 0, 1, 0, 0, 0, 0, 1, 0, 1, 0, 1, 1, 0, 0])"
            ]
          },
          "execution_count": 29,
          "metadata": {},
          "output_type": "execute_result"
        }
      ],
      "source": [
        "y_test"
      ]
    },
    {
      "cell_type": "code",
      "execution_count": null,
      "metadata": {
        "colab": {
          "base_uri": "https://localhost:8080/",
          "height": 483
        },
        "id": "Uy_j54t7IN8R",
        "outputId": "727fbfa1-46fb-4c9e-8354-572a4dcbf2c0"
      },
      "outputs": [
        {
          "data": {
            "image/png": "[encoded data removed]",
            "text/plain": [
              "<Figure size 576x576 with 1 Axes>"
            ]
          },
          "metadata": {
            "needs_background": "light"
          },
          "output_type": "display_data"
        }
      ],
      "source": [
        "cm = confusion_matrix(y_test, y_pred)\n",
        "\n",
        "fig, ax = plt.subplots(figsize=(8, 8))\n",
        "ax.imshow(cm)\n",
        "ax.grid(False)\n",
        "ax.xaxis.set(ticks=(0, 1), ticklabels=('Predicted 0s', 'Predicted 1s'))\n",
        "ax.yaxis.set(ticks=(0, 1), ticklabels=('Actual 0s', 'Actual 1s'))\n",
        "ax.set_ylim(1.5, -0.5)\n",
        "for i in range(2):\n",
        "    for j in range(2):\n",
        "        ax.text(j, i, cm[i, j], ha='center', va='center', color='white')\n",
        "plt.show()"
      ]
    },
    {
      "cell_type": "code",
      "execution_count": null,
      "metadata": {
        "colab": {
          "base_uri": "https://localhost:8080/"
        },
        "id": "Fs5VFUEhFnEM",
        "outputId": "958a7fe2-e9bb-4906-c609-7d35e7890566"
      },
      "outputs": [
        {
          "name": "stdout",
          "output_type": "stream",
          "text": [
            "              precision    recall  f1-score   support\n",
            "\n",
            "           0       1.00      1.00      1.00        12\n",
            "           1       1.00      1.00      1.00         8\n",
            "\n",
            "    accuracy                           1.00        20\n",
            "   macro avg       1.00      1.00      1.00        20\n",
            "weighted avg       1.00      1.00      1.00        20\n",
            "\n"
          ]
        }
      ],
      "source": [
        "from sklearn.metrics import classification_report, confusion_matrix\n",
        "print(classification_report(y_test, y_pred))"
      ]
    }
  ],
  "metadata": {
    "colab": {
      "provenance": []
    },
    "kernelspec": {
      "display_name": "Python 3 (ipykernel)",
      "language": "python",
      "name": "python3"
    },
    "language_info": {
      "codemirror_mode": {
        "name": "ipython",
        "version": 3
      },
      "file_extension": ".py",
      "mimetype": "text/x-python",
      "name": "python",
      "nbconvert_exporter": "python",
      "pygments_lexer": "ipython3",
      "version": "3.9.12"
    },
    "widgets": {
      "application/vnd.jupyter.widget-state+json": {
        "37907937b1134aa29dd794d238dbeb35": {
          "model_module": "@jupyter-widgets/controls",
          "model_module_version": "1.5.0",
          "model_name": "HBoxModel",
          "state": {
            "_dom_classes": [],
            "_model_module": "@jupyter-widgets/controls",
            "_model_module_version": "1.5.0",
            "_model_name": "HBoxModel",
            "_view_count": null,
            "_view_module": "@jupyter-widgets/controls",
            "_view_module_version": "1.5.0",
            "_view_name": "HBoxView",
            "box_style": "",
            "children": [
              "IPY_MODEL_5739bd139cf54640abbb9a27d8ca269b",
              "IPY_MODEL_42c69785eab74ec4abd53a9ef192fdcd",
              "IPY_MODEL_385e1be2abbe4873b84ba10bcfa500f2"
            ],
            "layout": "IPY_MODEL_5cffdd9385f048b58f7ba1dcd5d04da8"
          }
        },
        "385e1be2abbe4873b84ba10bcfa500f2": {
          "model_module": "@jupyter-widgets/controls",
          "model_module_version": "1.5.0",
          "model_name": "HTMLModel",
          "state": {
            "_dom_classes": [],
            "_model_module": "@jupyter-widgets/controls",
            "_model_module_version": "1.5.0",
            "_model_name": "HTMLModel",
            "_view_count": null,
            "_view_module": "@jupyter-widgets/controls",
            "_view_module_version": "1.5.0",
            "_view_name": "HTMLView",
            "description": "",
            "description_tooltip": null,
            "layout": "IPY_MODEL_8b3bfd5ea14c4333a1a6aba9027506fe",
            "placeholder": "​",
            "style": "IPY_MODEL_70f3244d4a77400fa54e8844ea598ada",
            "value": " 2000/2000 [00:09&lt;00:00, 349.47it/s]"
          }
        },
        "42c69785eab74ec4abd53a9ef192fdcd": {
          "model_module": "@jupyter-widgets/controls",
          "model_module_version": "1.5.0",
          "model_name": "FloatProgressModel",
          "state": {
            "_dom_classes": [],
            "_model_module": "@jupyter-widgets/controls",
            "_model_module_version": "1.5.0",
            "_model_name": "FloatProgressModel",
            "_view_count": null,
            "_view_module": "@jupyter-widgets/controls",
            "_view_module_version": "1.5.0",
            "_view_name": "ProgressView",
            "bar_style": "success",
            "description": "",
            "description_tooltip": null,
            "layout": "IPY_MODEL_cf9c8463199e4a40be943c3354334874",
            "max": 2000,
            "min": 0,
            "orientation": "horizontal",
            "style": "IPY_MODEL_af618cac29e440a9bf88c87c35ffe377",
            "value": 2000
          }
        },
        "5739bd139cf54640abbb9a27d8ca269b": {
          "model_module": "@jupyter-widgets/controls",
          "model_module_version": "1.5.0",
          "model_name": "HTMLModel",
          "state": {
            "_dom_classes": [],
            "_model_module": "@jupyter-widgets/controls",
            "_model_module_version": "1.5.0",
            "_model_name": "HTMLModel",
            "_view_count": null,
            "_view_module": "@jupyter-widgets/controls",
            "_view_module_version": "1.5.0",
            "_view_name": "HTMLView",
            "description": "",
            "description_tooltip": null,
            "layout": "IPY_MODEL_e0256c24dbc948a7acb58f0338b9bf97",
            "placeholder": "​",
            "style": "IPY_MODEL_dd6df4add89d483183b334da5a0292ea",
            "value": "100%"
          }
        },
        "5cffdd9385f048b58f7ba1dcd5d04da8": {
          "model_module": "@jupyter-widgets/base",
          "model_module_version": "1.2.0",
          "model_name": "LayoutModel",
          "state": {
            "_model_module": "@jupyter-widgets/base",
            "_model_module_version": "1.2.0",
            "_model_name": "LayoutModel",
            "_view_count": null,
            "_view_module": "@jupyter-widgets/base",
            "_view_module_version": "1.2.0",
            "_view_name": "LayoutView",
            "align_content": null,
            "align_items": null,
            "align_self": null,
            "border": null,
            "bottom": null,
            "display": null,
            "flex": null,
            "flex_flow": null,
            "grid_area": null,
            "grid_auto_columns": null,
            "grid_auto_flow": null,
            "grid_auto_rows": null,
            "grid_column": null,
            "grid_gap": null,
            "grid_row": null,
            "grid_template_areas": null,
            "grid_template_columns": null,
            "grid_template_rows": null,
            "height": null,
            "justify_content": null,
            "justify_items": null,
            "left": null,
            "margin": null,
            "max_height": null,
            "max_width": null,
            "min_height": null,
            "min_width": null,
            "object_fit": null,
            "object_position": null,
            "order": null,
            "overflow": null,
            "overflow_x": null,
            "overflow_y": null,
            "padding": null,
            "right": null,
            "top": null,
            "visibility": null,
            "width": null
          }
        },
        "70f3244d4a77400fa54e8844ea598ada": {
          "model_module": "@jupyter-widgets/controls",
          "model_module_version": "1.5.0",
          "model_name": "DescriptionStyleModel",
          "state": {
            "_model_module": "@jupyter-widgets/controls",
            "_model_module_version": "1.5.0",
            "_model_name": "DescriptionStyleModel",
            "_view_count": null,
            "_view_module": "@jupyter-widgets/base",
            "_view_module_version": "1.2.0",
            "_view_name": "StyleView",
            "description_width": ""
          }
        },
        "8b3bfd5ea14c4333a1a6aba9027506fe": {
          "model_module": "@jupyter-widgets/base",
          "model_module_version": "1.2.0",
          "model_name": "LayoutModel",
          "state": {
            "_model_module": "@jupyter-widgets/base",
            "_model_module_version": "1.2.0",
            "_model_name": "LayoutModel",
            "_view_count": null,
            "_view_module": "@jupyter-widgets/base",
            "_view_module_version": "1.2.0",
            "_view_name": "LayoutView",
            "align_content": null,
            "align_items": null,
            "align_self": null,
            "border": null,
            "bottom": null,
            "display": null,
            "flex": null,
            "flex_flow": null,
            "grid_area": null,
            "grid_auto_columns": null,
            "grid_auto_flow": null,
            "grid_auto_rows": null,
            "grid_column": null,
            "grid_gap": null,
            "grid_row": null,
            "grid_template_areas": null,
            "grid_template_columns": null,
            "grid_template_rows": null,
            "height": null,
            "justify_content": null,
            "justify_items": null,
            "left": null,
            "margin": null,
            "max_height": null,
            "max_width": null,
            "min_height": null,
            "min_width": null,
            "object_fit": null,
            "object_position": null,
            "order": null,
            "overflow": null,
            "overflow_x": null,
            "overflow_y": null,
            "padding": null,
            "right": null,
            "top": null,
            "visibility": null,
            "width": null
          }
        },
        "af618cac29e440a9bf88c87c35ffe377": {
          "model_module": "@jupyter-widgets/controls",
          "model_module_version": "1.5.0",
          "model_name": "ProgressStyleModel",
          "state": {
            "_model_module": "@jupyter-widgets/controls",
            "_model_module_version": "1.5.0",
            "_model_name": "ProgressStyleModel",
            "_view_count": null,
            "_view_module": "@jupyter-widgets/base",
            "_view_module_version": "1.2.0",
            "_view_name": "StyleView",
            "bar_color": null,
            "description_width": ""
          }
        },
        "cf9c8463199e4a40be943c3354334874": {
          "model_module": "@jupyter-widgets/base",
          "model_module_version": "1.2.0",
          "model_name": "LayoutModel",
          "state": {
            "_model_module": "@jupyter-widgets/base",
            "_model_module_version": "1.2.0",
            "_model_name": "LayoutModel",
            "_view_count": null,
            "_view_module": "@jupyter-widgets/base",
            "_view_module_version": "1.2.0",
            "_view_name": "LayoutView",
            "align_content": null,
            "align_items": null,
            "align_self": null,
            "border": null,
            "bottom": null,
            "display": null,
            "flex": null,
            "flex_flow": null,
            "grid_area": null,
            "grid_auto_columns": null,
            "grid_auto_flow": null,
            "grid_auto_rows": null,
            "grid_column": null,
            "grid_gap": null,
            "grid_row": null,
            "grid_template_areas": null,
            "grid_template_columns": null,
            "grid_template_rows": null,
            "height": null,
            "justify_content": null,
            "justify_items": null,
            "left": null,
            "margin": null,
            "max_height": null,
            "max_width": null,
            "min_height": null,
            "min_width": null,
            "object_fit": null,
            "object_position": null,
            "order": null,
            "overflow": null,
            "overflow_x": null,
            "overflow_y": null,
            "padding": null,
            "right": null,
            "top": null,
            "visibility": null,
            "width": null
          }
        },
        "dd6df4add89d483183b334da5a0292ea": {
          "model_module": "@jupyter-widgets/controls",
          "model_module_version": "1.5.0",
          "model_name": "DescriptionStyleModel",
          "state": {
            "_model_module": "@jupyter-widgets/controls",
            "_model_module_version": "1.5.0",
            "_model_name": "DescriptionStyleModel",
            "_view_count": null,
            "_view_module": "@jupyter-widgets/base",
            "_view_module_version": "1.2.0",
            "_view_name": "StyleView",
            "description_width": ""
          }
        },
        "e0256c24dbc948a7acb58f0338b9bf97": {
          "model_module": "@jupyter-widgets/base",
          "model_module_version": "1.2.0",
          "model_name": "LayoutModel",
          "state": {
            "_model_module": "@jupyter-widgets/base",
            "_model_module_version": "1.2.0",
            "_model_name": "LayoutModel",
            "_view_count": null,
            "_view_module": "@jupyter-widgets/base",
            "_view_module_version": "1.2.0",
            "_view_name": "LayoutView",
            "align_content": null,
            "align_items": null,
            "align_self": null,
            "border": null,
            "bottom": null,
            "display": null,
            "flex": null,
            "flex_flow": null,
            "grid_area": null,
            "grid_auto_columns": null,
            "grid_auto_flow": null,
            "grid_auto_rows": null,
            "grid_column": null,
            "grid_gap": null,
            "grid_row": null,
            "grid_template_areas": null,
            "grid_template_columns": null,
            "grid_template_rows": null,
            "height": null,
            "justify_content": null,
            "justify_items": null,
            "left": null,
            "margin": null,
            "max_height": null,
            "max_width": null,
            "min_height": null,
            "min_width": null,
            "object_fit": null,
            "object_position": null,
            "order": null,
            "overflow": null,
            "overflow_x": null,
            "overflow_y": null,
            "padding": null,
            "right": null,
            "top": null,
            "visibility": null,
            "width": null
          }
        }
      }
    }
  },
  "nbformat": 4,
  "nbformat_minor": 0
}